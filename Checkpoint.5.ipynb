{
 "cells": [
  {
   "cell_type": "code",
   "execution_count": 10,
   "id": "f3324d44",
   "metadata": {},
   "outputs": [
    {
     "data": {
      "text/plain": [
       "'x=1,y=2,z=3'"
      ]
     },
     "execution_count": 10,
     "metadata": {},
     "output_type": "execute_result"
    }
   ],
   "source": [
    "#Question 1:\n",
    "class Point3D:\n",
    "    def __init__(self,x,y,z):\n",
    "        self.x=x\n",
    "        self.y=y\n",
    "        self.z=z\n",
    "    def rtn(self):\n",
    "        return\"x={},y={},z={}\".format(self.x,self.y,self.z)\n",
    "my_point=Point3D(1,2,3)\n",
    "my_point.rtn()"
   ]
  },
  {
   "cell_type": "code",
   "execution_count": 6,
   "id": "9a45679e",
   "metadata": {},
   "outputs": [
    {
     "data": {
      "text/plain": [
       "12"
      ]
     },
     "execution_count": 6,
     "metadata": {},
     "output_type": "execute_result"
    }
   ],
   "source": [
    "#Question 2:\n",
    "class Rectangle:\n",
    "    def __init__(self,length,width):\n",
    "        self.length=length\n",
    "        self.width=width\n",
    "    def area(self):\n",
    "        return self.length*self.width\n",
    "    def perimeter(self):\n",
    "        return (self.length+self.width)*2\n",
    "my_rectangle=Rectangle(4,3)\n",
    "my_rectangle.area()"
   ]
  },
  {
   "cell_type": "code",
   "execution_count": 9,
   "id": "4f44c5f4",
   "metadata": {},
   "outputs": [
    {
     "data": {
      "text/plain": [
       "14"
      ]
     },
     "execution_count": 9,
     "metadata": {},
     "output_type": "execute_result"
    }
   ],
   "source": [
    "my_rectangle.perimeter()"
   ]
  },
  {
   "cell_type": "code",
   "execution_count": 19,
   "id": "002c64d4",
   "metadata": {},
   "outputs": [
    {
     "name": "stdout",
     "output_type": "stream",
     "text": [
      "give x1\n",
      "give y1\n",
      "inside circle\n"
     ]
    }
   ],
   "source": [
    "#Question 3:\n",
    "class Circle:\n",
    "    def __init__(self,radius,O):\n",
    "        self.radius=radius\n",
    "        self.center=O\n",
    "    def area(self):\n",
    "        return self.radius**2*3.14\n",
    "    def perimeter(self):\n",
    "        return self.radius*2*3.14\n",
    "    def method(self,x,y):\n",
    "        if (x-self.center)**2 + (y-self.center)**2 <= self.radius**2:\n",
    "            print('inside circle')\n",
    "        else:\n",
    "            print(\"outside circle\")\n",
    "x=int(input('give x'))\n",
    "y=int(input('give y'))\n",
    "my_circle=Circle(3,0)\n",
    "my_circle.method(x,y)"
   ]
  },
  {
   "cell_type": "code",
   "execution_count": 22,
   "id": "2d85cfd3",
   "metadata": {},
   "outputs": [
    {
     "name": "stdout",
     "output_type": "stream",
     "text": [
      "amount to be deposit300\n",
      "amount deposited: 300.0\n"
     ]
    }
   ],
   "source": [
    "#Question 4:\n",
    "class Bank:\n",
    "    def __init__(self,balance):\n",
    "        self.balance=balance\n",
    "    def deposit(self):\n",
    "        amount=float(input('amount to be deposit'))\n",
    "        self.balance+=amount\n",
    "        print('amount deposited:',amount)\n",
    "    def withdraw(self):\n",
    "        amount=float(input(\"amount to be withdraw\"))\n",
    "        if slef.balance <= amount:\n",
    "            self.balance-=amount\n",
    "            print(\"you withdrew :\",amount)\n",
    "        else :\n",
    "            print(\"insufficient balance\")\n",
    "    def currentamount(self):\n",
    "        print(self.balance)\n",
    "my_bank=Bank(800)\n",
    "my_bank.deposit()"
   ]
  },
  {
   "cell_type": "code",
   "execution_count": null,
   "id": "f428c24c",
   "metadata": {},
   "outputs": [],
   "source": []
  }
 ],
 "metadata": {
  "kernelspec": {
   "display_name": "Python 3 (ipykernel)",
   "language": "python",
   "name": "python3"
  },
  "language_info": {
   "codemirror_mode": {
    "name": "ipython",
    "version": 3
   },
   "file_extension": ".py",
   "mimetype": "text/x-python",
   "name": "python",
   "nbconvert_exporter": "python",
   "pygments_lexer": "ipython3",
   "version": "3.9.6"
  }
 },
 "nbformat": 4,
 "nbformat_minor": 5
}
